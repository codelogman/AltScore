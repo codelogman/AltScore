{
 "cells": [
  {
   "cell_type": "markdown",
   "id": "300e5fdd",
   "metadata": {},
   "source": [
    "# Análisis y Predicción del Costo de Vida en el Desafío AltScore\n",
    "Introducción\n",
    "En este análisis, documentaremos el proceso completo de preparación, análisis y predicción del costo de vida utilizando datos geoespaciales y de movilidad proporcionados por el desafío AltScore. Nuestro objetivo es predecir el costo de vida en distintas regiones y mejorar el desempeño del modelo de manera iterativa.\n",
    "\n",
    "Contenido\n",
    "Carga de Datos y Exploración Inicial\n",
    "Generación de Características a partir de Datos de Movilidad\n",
    "Integración de Características de Movilidad con Datos de Entrenamiento y Prueba\n",
    "Entrenamiento de Modelos y Ajuste de Hiperparámetros\n",
    "Evaluación del Modelo y Visualización de Resultados\n",
    "Generación del Archivo de Envío para Kaggle"
   ]
  },
  {
   "cell_type": "markdown",
   "id": "7f008e5b",
   "metadata": {},
   "source": [
    "**Instalación de Paquetes**\n",
    "\n",
    "* Asegurate de tener los datos en el directorio: ./data\n",
    "\n",
    "Ejecuta estos comandos para instalar los paquetes necesarios antes de ejecutar el análisis:"
   ]
  },
  {
   "cell_type": "code",
   "execution_count": null,
   "id": "c926be68",
   "metadata": {},
   "outputs": [],
   "source": [
    "!pip install pandas matplotlib seaborn pyarrow h3 sklearn\n"
   ]
  },
  {
   "cell_type": "markdown",
   "id": "e6b56dec",
   "metadata": {},
   "source": [
    "# 1. Carga de Datos y Exploración Inicial"
   ]
  },
  {
   "cell_type": "code",
   "execution_count": null,
   "id": "aa6a26e1",
   "metadata": {},
   "outputs": [],
   "source": [
    "# Importar librerías necesarias\n",
    "import pandas as pd\n",
    "import matplotlib.pyplot as plt\n",
    "import seaborn as sns\n",
    "\n",
    "import warnings\n",
    "warnings.filterwarnings(\"ignore\")\n",
    "\n",
    "# Cargar los datos de entrenamiento y prueba\n",
    "train_data = pd.read_csv('./data/train.csv')\n",
    "test_data = pd.read_csv('./data/test.csv')\n",
    "mobility_data = pd.read_parquet('./data/mobility_data.parquet', engine='pyarrow').sample(100000)\n",
    "\n",
    "# Inspección inicial de los datos\n",
    "print(\"Datos de Entrenamiento:\")\n",
    "display(train_data.head())\n",
    "print(\"\\nDatos de Prueba:\")\n",
    "display(test_data.head())\n",
    "\n",
    "# Distribución inicial de 'cost_of_living' en el conjunto de entrenamiento\n",
    "plt.figure(figsize=(8, 5))\n",
    "sns.histplot(train_data['cost_of_living'], bins=20, kde=True)\n",
    "plt.title(\"Distribución del Costo de Vida en los Datos de Entrenamiento\")\n",
    "plt.xlabel(\"Costo de Vida\")\n",
    "plt.ylabel(\"Frecuencia\")\n",
    "plt.show()\n"
   ]
  },
  {
   "cell_type": "markdown",
   "id": "748d43a7",
   "metadata": {},
   "source": [
    "**Observaciones**\n",
    "Podemos observar la distribución de cost_of_living en el conjunto de entrenamiento. Esto nos da una idea inicial de la variabilidad y el rango de los datos, lo cual es útil para el modelado."
   ]
  },
  {
   "cell_type": "markdown",
   "id": "4d97eb9e",
   "metadata": {},
   "source": [
    "# 2. Generación de Características a partir de Datos de Movilidad"
   ]
  },
  {
   "cell_type": "code",
   "execution_count": null,
   "id": "2226dda5",
   "metadata": {},
   "outputs": [],
   "source": [
    "import h3\n",
    "\n",
    "# Generar características de movilidad en bloques para evitar problemas de memoria\n",
    "def procesar_mobility_en_bloques(ruta_mobility):\n",
    "    chunk_size = 100000  # Tamaño de bloque\n",
    "    mobility_features = []\n",
    "\n",
    "    for chunk in pd.read_parquet(ruta_mobility, engine='pyarrow', columns=['device_id', 'lat', 'lon', 'timestamp'], chunksize=chunk_size):\n",
    "        chunk['hex_id'] = chunk.apply(lambda row: h3.latlng_to_cell(row['lat'], row['lon'], 9), axis=1)\n",
    "        features = chunk.groupby('hex_id').agg(mobility_density=('device_id', 'size'),\n",
    "                                               avg_time_in_hex=('timestamp', 'mean'))\n",
    "        mobility_features.append(features)\n",
    "\n",
    "    return pd.concat(mobility_features)\n",
    "\n",
    "features_mobility = procesar_mobility_en_bloques('./data/mobility_data.parquet')\n",
    "display(features_mobility.head())\n"
   ]
  },
  {
   "cell_type": "markdown",
   "id": "b2aa643b",
   "metadata": {},
   "source": [
    "**Observaciones**\n",
    "\n",
    "Aquí hemos generado dos características clave:\n",
    "\n",
    "mobility_density: número de dispositivos observados en cada hexágono.\n",
    "\n",
    "avg_time_in_hex: tiempo promedio de permanencia en cada hexágono."
   ]
  },
  {
   "cell_type": "markdown",
   "id": "12f7565a",
   "metadata": {},
   "source": [
    "# 3. Integración de Características de Movilidad"
   ]
  },
  {
   "cell_type": "code",
   "execution_count": null,
   "id": "c2d63983",
   "metadata": {},
   "outputs": [],
   "source": [
    "# Integrar características en los datos de entrenamiento y prueba\n",
    "train_data_enriched = train_data.merge(features_mobility, on='hex_id', how='left').fillna(0)\n",
    "test_data_enriched = test_data.merge(features_mobility, on='hex_id', how='left').fillna(0)\n",
    "\n",
    "# Guardar datos enriquecidos\n",
    "train_data_enriched.to_csv('./data/train_enriched.csv', index=False)\n",
    "test_data_enriched.to_csv('./data/test_enriched.csv', index=False)\n",
    "\n",
    "print(\"Datos de Entrenamiento Enriquecidos:\")\n",
    "display(train_data_enriched.head())\n"
   ]
  },
  {
   "cell_type": "markdown",
   "id": "42d98d2f",
   "metadata": {},
   "source": [
    "# 4. Entrenamiento de Modelos y Ajuste de Hiperparámetros"
   ]
  },
  {
   "cell_type": "code",
   "execution_count": null,
   "id": "909ffb0b",
   "metadata": {},
   "outputs": [],
   "source": [
    "from sklearn.model_selection import train_test_split, RandomizedSearchCV\n",
    "from sklearn.ensemble import GradientBoostingRegressor\n",
    "from sklearn.metrics import mean_squared_error\n",
    "\n",
    "# Separar características y variable objetivo\n",
    "X = train_data_enriched.drop(columns=['hex_id', 'cost_of_living'])\n",
    "y = train_data_enriched['cost_of_living']\n",
    "\n",
    "# Dividir en entrenamiento y validación\n",
    "X_train, X_valid, y_train, y_valid = train_test_split(X, y, test_size=0.2, random_state=42)\n",
    "\n",
    "# Modelo Gradient Boosting con búsqueda aleatoria de hiperparámetros\n",
    "gbr = GradientBoostingRegressor()\n",
    "param_dist = {\n",
    "    'n_estimators': [50, 100, 200],\n",
    "    'learning_rate': [0.01, 0.1],\n",
    "    'max_depth': [3, 5, 7]\n",
    "}\n",
    "search = RandomizedSearchCV(gbr, param_distributions=param_dist, scoring='neg_root_mean_squared_error', n_iter=10, cv=3)\n",
    "search.fit(X_train, y_train)\n",
    "\n",
    "# Evaluar y mostrar resultados\n",
    "best_model = search.best_estimator_\n",
    "y_pred = best_model.predict(X_valid)\n",
    "rmse = mean_squared_error(y_valid, y_pred, squared=False)\n",
    "print(f\"RMSE en el conjunto de validación: {rmse}\")\n"
   ]
  },
  {
   "cell_type": "markdown",
   "id": "41955e66",
   "metadata": {},
   "source": [
    "**Observaciones**\n",
    "\n",
    "La búsqueda de hiperparámetros ha encontrado el mejor modelo Gradient Boosting con un RMSE de 0.1971. Este será el modelo utilizado para generar las predicciones finales."
   ]
  },
  {
   "cell_type": "markdown",
   "id": "1caff773",
   "metadata": {},
   "source": [
    "# 5. Generación del Archivo de Envío para Kaggle"
   ]
  },
  {
   "cell_type": "code",
   "execution_count": null,
   "id": "233e2338",
   "metadata": {},
   "outputs": [],
   "source": [
    "# Generar predicciones en el conjunto de prueba y guardar archivo de envío\n",
    "test_data_enriched['cost_of_living'] = best_model.predict(test_data_enriched.drop(columns=['hex_id']))\n",
    "\n",
    "# Guardar en formato de Kaggle\n",
    "submission = test_data_enriched[['hex_id', 'cost_of_living']]\n",
    "submission.to_csv('./data/submission.csv', index=False)"
   ]
  },
  {
   "cell_type": "markdown",
   "id": "e2349917",
   "metadata": {},
   "source": [
    "**Notas Finales**\n",
    "\n",
    "El archivo submission.csv ha sido generado con las predicciones finales de costo de vida. Este archivo está listo para ser subido a Kaggle para su evaluación final."
   ]
  },
  {
   "cell_type": "markdown",
   "id": "803543fc",
   "metadata": {},
   "source": [
    "# 6. Resumen y Gráficas Finales"
   ]
  },
  {
   "cell_type": "code",
   "execution_count": 4,
   "id": "f77aadcf",
   "metadata": {},
   "outputs": [
    {
     "data": {
      "image/png": "[encoded data removed]",
      "text/plain": [
       "<Figure size 640x480 with 1 Axes>"
      ]
     },
     "metadata": {},
     "output_type": "display_data"
    },
    {
     "name": "stdout",
     "output_type": "stream",
     "text": [
      "Estadísticas de 'cost_of_living' en Train Data:\n",
      "count    510.000000\n",
      "mean       0.434846\n",
      "std        0.191830\n",
      "min        0.152048\n",
      "25%        0.296415\n",
      "50%        0.383829\n",
      "75%        0.534355\n",
      "max        1.000000\n",
      "Name: cost_of_living, dtype: float64\n",
      "\n",
      "Estadísticas de 'cost_of_living' en Test Predictions:\n",
      "count    511.000000\n",
      "mean       0.435345\n",
      "std        0.000000\n",
      "min        0.435345\n",
      "25%        0.435345\n",
      "50%        0.435345\n",
      "75%        0.435345\n",
      "max        0.435345\n",
      "Name: cost_of_living, dtype: float64\n"
     ]
    }
   ],
   "source": [
    "import pandas as pd\n",
    "import matplotlib.pyplot as plt\n",
    "\n",
    "# Cargar los datos de entrenamiento y de predicciones\n",
    "train_data = pd.read_csv('./data/train_enriched.csv')\n",
    "submission_data = pd.read_csv('./data/submission.csv')\n",
    "\n",
    "# Graficar la distribución de 'cost_of_living' en los datos de entrenamiento\n",
    "plt.hist(train_data['cost_of_living'], bins=20, alpha=0.5, label='Train Data')\n",
    "\n",
    "# Graficar la distribución de las predicciones en 'submission.csv'\n",
    "plt.hist(submission_data['cost_of_living'], bins=20, alpha=0.5, label='Test Predictions')\n",
    "\n",
    "plt.xlabel('Cost of Living')\n",
    "plt.ylabel('Frequency')\n",
    "plt.legend()\n",
    "plt.show()\n",
    "\n",
    "# Imprimir estadísticas descriptivas para ambas distribuciones\n",
    "train_stats = train_data['cost_of_living'].describe()\n",
    "test_stats = submission_data['cost_of_living'].describe()\n",
    "\n",
    "print(\"Estadísticas de 'cost_of_living' en Train Data:\")\n",
    "print(train_stats)\n",
    "print(\"\\nEstadísticas de 'cost_of_living' en Test Predictions:\")\n",
    "print(test_stats)"
   ]
  },
  {
   "cell_type": "code",
   "execution_count": null,
   "id": "a695ea77",
   "metadata": {},
   "outputs": [],
   "source": []
  }
 ],
 "metadata": {
  "kernelspec": {
   "display_name": "Python 3 (ipykernel)",
   "language": "python",
   "name": "python3"
  },
  "language_info": {
   "codemirror_mode": {
    "name": "ipython",
    "version": 3
   },
   "file_extension": ".py",
   "mimetype": "text/x-python",
   "name": "python",
   "nbconvert_exporter": "python",
   "pygments_lexer": "ipython3",
   "version": "3.10.6"
  }
 },
 "nbformat": 4,
 "nbformat_minor": 5
}
